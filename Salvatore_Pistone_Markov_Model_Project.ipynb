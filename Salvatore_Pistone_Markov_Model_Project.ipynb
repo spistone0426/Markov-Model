{
  "cells": [
    {
      "cell_type": "markdown",
      "metadata": {
        "id": "VCor729jqvQE"
      },
      "source": [
        "# Simulation of Nitflex Business Model\n",
        "\n",
        "Nitflex is a streaming company providing paid content on a subscription-based plan.\n",
        "The company model generates revenues exclusively through user’s subscription which comprises the following plans:\n",
        "•\tFree Trial (14 days): users subscribe to try the Nitflex services free of charge for a week. The user must provide a credit card during the sign-up process. The user can cancel the free trial at any time during the 14 days; after that, the user is automatically moved to the Basic plan and charged for the first month.\n",
        "•\tBasic Plan: users in the Basic Plan have access to the entire media collection; however, they have a limit of 40 movies a month.\n",
        "•\tUnlimited Plan: users in the Unlimited Plan have access to the entire media collection with no limit.\n"
      ]
    },
    {
      "cell_type": "markdown",
      "metadata": {
        "id": "9x2yDhJWqvQH"
      },
      "source": [
        "MM with the transition probabilities"
      ]
    },
    {
      "cell_type": "code",
      "execution_count": 8,
      "metadata": {
        "id": "s9avZ9keqvQH"
      },
      "outputs": [],
      "source": [
        "import numpy as np\n",
        "import random as rm\n",
        "\n",
        "# Defining the States\n",
        "states = ['Free Trial', 'Basic Plan', 'Unlimited Plan', 'Lost']\n",
        "#The four possible states that are made available in the data\n",
        "\n",
        "# Defining the transitions\n",
        "transitionName = [['T11', 'T12', 'T13', 'T1D'],\n",
        "                  ['T21', 'T22', 'T23', 'T2D'],\n",
        "                  ['T31', 'T32', 'T33', 'T3D'],\n",
        "                  ['TD1', 'TD2', 'TD3', 'TDD'],\n",
        "                  ['TL1', 'TL2', 'TL3', 'TLD']]\n",
        "\n",
        "#All possible transitions, such as Trial to Basic, Basic to Unlimited, Unlimited to Lost, etc\n",
        "\n",
        "# Probability or Transition Matrix\n",
        "tMatrix = [[0.0, 30/65, 13.5/65, 21.5/65],\n",
        "           [0.0, 3/15, 0.0, 12/15],\n",
        "           [0.0, 9/20, 2.5/20, 8.5/20],\n",
        "           [0.0, 0.0, 0.0, 1.0]]\n",
        "\n",
        "#All Trial is never returned to, hence why first column is all 0, rest represents the amount of users that made transitions\n",
        "#The lost state never transtions to another state which is why it is 1.0\n",
        "#The data does not state any user going directly from the Basic membership and upgrading to the Unlimited, only upgrading from the trial membership\n",
        "#To each of the others or downgrading from the Unlimited to the basic, but not basic to unlimited."
      ]
    },
    {
      "cell_type": "markdown",
      "metadata": {
        "id": "Z3NUXw8sqvQK"
      },
      "source": [
        "The following functions will check the matrix."
      ]
    },
    {
      "cell_type": "code",
      "execution_count": 9,
      "metadata": {
        "id": "rKkbJcXBqvQK"
      },
      "outputs": [],
      "source": [
        "def mult_matrices(m1, m2):\n",
        "    res = [[0 for x in range(len(m1))] for y in range(len(m2))]\n",
        "    for i in range(len(m1)):\n",
        "        for j in range(len(m2[0])):\n",
        "            for k in range(len(m2)):\n",
        "                res[i][j] = round(res[i][j] + m1[i][k] * m2[k][j], 3)\n",
        "    return res\n",
        "\n",
        "def checkMatrix(M):\n",
        "    # The raw probabilities should sum to 1\n",
        "    n = len(M)\n",
        "    psum = 0\n",
        "    result = False\n",
        "\n",
        "    for i in range(0,n):\n",
        "        psum += sum(M[i])\n",
        "\n",
        "    if psum == n:\n",
        "        result = True\n",
        "    return result"
      ]
    },
    {
      "cell_type": "code",
      "execution_count": 10,
      "metadata": {
        "colab": {
          "base_uri": "https://localhost:8080/"
        },
        "id": "lI4gPHzSqvQL",
        "outputId": "0c860efa-be80-41a3-9bc2-966439a08a30"
      },
      "outputs": [
        {
          "output_type": "stream",
          "name": "stdout",
          "text": [
            "Probability Test ... passed.\n"
          ]
        }
      ],
      "source": [
        "# Checking the probabilities look ok: out probabilities should be equal to 1\n",
        "if checkMatrix(tMatrix):\n",
        "    print(\"Probability Test ... passed.\")\n",
        "else:\n",
        "    print(\"The transition matrix has some problem\")"
      ]
    },
    {
      "cell_type": "code",
      "execution_count": 11,
      "metadata": {
        "id": "tr5mw9nvqvQM"
      },
      "outputs": [],
      "source": [
        "def simulate(periods, starting_state, states, transitionName, tMatrix):\n",
        "    current_state = starting_state\n",
        "    transition_index = 0\n",
        "    projectedMatrix = tMatrix\n",
        "\n",
        "    transitionList = [states[current_state]]\n",
        "    period_counter = 1\n",
        "    # Probability of transitionList\n",
        "    prob = 1\n",
        "\n",
        "    while period_counter != periods:\n",
        "\n",
        "        next_transition = np.random.choice(transitionName[transition_index],replace=True,p=tMatrix[transition_index])\n",
        "        next_state_index = transitionName[transition_index].index(next_transition)\n",
        "\n",
        "        if tMatrix[transition_index][next_state_index]>0.0:\n",
        "            prob = prob * tMatrix[transition_index][next_state_index]\n",
        "\n",
        "        transition_index = next_state_index\n",
        "        transitionList.append(states[transition_index])\n",
        "\n",
        "        projectedMatrix = mult_matrices(projectedMatrix,projectedMatrix)\n",
        "\n",
        "        period_counter += 1\n",
        "    return transitionList, states[transition_index], prob, projectedMatrix"
      ]
    },
    {
      "cell_type": "markdown",
      "metadata": {
        "id": "IegaYSasqvQM"
      },
      "source": [
        "## What would be the distribution of probabilities for each Subscription level 10 years from now?\n"
      ]
    },
    {
      "cell_type": "code",
      "execution_count": 12,
      "metadata": {
        "id": "4xh8bvS6qvQM",
        "outputId": "ca745b2b-246a-410d-cb1f-c17ad675214e",
        "colab": {
          "base_uri": "https://localhost:8080/"
        }
      },
      "outputs": [
        {
          "output_type": "stream",
          "name": "stdout",
          "text": [
            "Possible states: ['Free Trial', 'Lost', 'Lost', 'Lost', 'Lost', 'Lost', 'Lost', 'Lost', 'Lost', 'Lost']\n",
            "End state after 10 periods: Lost\n",
            "Probability of the possible sequence of states: 0.33076923076923076\n",
            "\n",
            "[0.0, 0.0, 0.0, 0.999]\n",
            "[0.0, 0.0, 0.0, 1.0]\n",
            "[0.0, 0.0, 0.0, 0.999]\n",
            "[0.0, 0.0, 0.0, 1.0]\n"
          ]
        }
      ],
      "source": [
        "periods = 10\n",
        "starting_state = 0\n",
        "transition_list, final_state, probability, projected_matrix = simulate(periods, starting_state, states, transitionName, tMatrix)\n",
        "\n",
        "print(\"Possible states: \" + str(transition_list))\n",
        "print(\"End state after \"+ str(periods) + \" periods: \" + final_state)\n",
        "print(\"Probability of the possible sequence of states: \" + str(probability))\n",
        "print()\n",
        "#Printing projected matrix\n",
        "for i in range(len(projected_matrix)):\n",
        "    print(projected_matrix[i])"
      ]
    },
    {
      "cell_type": "markdown",
      "metadata": {
        "id": "DKZw3YWHqvQM"
      },
      "source": [
        "Write your comments in the next cell."
      ]
    },
    {
      "cell_type": "markdown",
      "metadata": {
        "id": "HjV-2jZKqvQN"
      },
      "source": [
        "End state after 10 periods will be 100% lost.\n",
        "Probability of the possible sequence of states: 0.33076923076923076\n",
        "\n",
        "Based on the data that we have been given, 100% of users will arrive at the lost state in ten years. A large part of the problem potentially occurs in the fact that once a user is lost they never return. This model not allowing users to return if they decide not to renew means that in all likelyhood users will not continue to use the service long term. This service also does not incentivize the basic option since the data does not explicitly express that any of the 100 users in the sample ever decided to upgrade, however it does specificy that users did downgrade. It would be reasonable to assume that some users who liked the service would attempt to upgrade to a more premium version. Not allowing users the ability to gain access to more features unless they do directly from the free trial is a poor way to retain users and may likely be the main reason that the model predicts very confidently that 100% of basic users will be lost, rather then the small possibility that the unlimited option may retain a very small amount."
      ]
    },
    {
      "cell_type": "markdown",
      "metadata": {
        "id": "-FBwiS_EqvQN"
      },
      "source": [
        "## What Modification would you introduce for Nitflex to be more Successful?"
      ]
    },
    {
      "cell_type": "code",
      "execution_count": 13,
      "metadata": {
        "id": "Qk3MYfrxqvQN"
      },
      "outputs": [],
      "source": [
        "tMatrix = [[0.0, 32/65, 12.5/65, 20.5/65],\n",
        "           [0.0, 2/15, 2/15, 11/15],\n",
        "           [0.0, 9/20, 2.5/20, 8.5/20],\n",
        "           [0.0, 35/100, 15/100, 50/100]]\n",
        "\n",
        "#Changes in first row: Allowing their to be an option of going from a basic to an unlimited would likely effect what people do in the trial state.\n",
        "#It can be reasonably assumed that at least one person would decide differently and go from the trial directly to the basic state, which would effect going from trial\n",
        "#to unlimited or trial to lost\n",
        "\n",
        "#Changes in Second Row: Allowing there to be an option to go from the basic plan to the unlimited, We can make similar assumptions that we did with the first row.\n",
        "#If given the option we can assume that at least one person would decide to choose the to upgrade from basic to unlimited rather then to remain in the basic plan or to\n",
        "#not renew altogether.\n",
        "\n",
        "\n",
        "#Changes in Third Row: The changes that we have predicited would likely not effect this row significantly, so I chose to keep it the same\n",
        "\n",
        "#Changes in Fourth Row: Assumes that Lost state is no longer an absorbant state, meaning users can now return. We can assume that at some point that if users who\n",
        "#can cancel the service are allowed to renew it again then its possible every user would at some point cancel it and return. I believe that potentially half\n",
        "#Of all users may end up leaving for good, however if people were to return the larger majority would likely go to the basic state rather then going directly from the\n",
        "#lost state to the more expensive option. They also cannot return to the trial state since coming from the lost state would mean they were already eligible for the trial."
      ]
    },
    {
      "cell_type": "markdown",
      "metadata": {
        "id": "bQtmw9DyqvQN"
      },
      "source": [
        "Run the simulation again (on the same 10 periods) and generate the new simulated transition probabilities.  \n",
        "  Execute the simulation in the next cell and print the results."
      ]
    },
    {
      "cell_type": "code",
      "execution_count": 14,
      "metadata": {
        "colab": {
          "base_uri": "https://localhost:8080/"
        },
        "id": "m7B8Txw7qvQN",
        "outputId": "f44f0424-7760-4b37-c0ba-28ba1df91cca"
      },
      "outputs": [
        {
          "output_type": "stream",
          "name": "stdout",
          "text": [
            "Possible states: ['Free Trial', 'Basic Plan', 'Unlimited Plan', 'Basic Plan', 'Unlimited Plan', 'Lost', 'Unlimited Plan', 'Basic Plan', 'Unlimited Plan', 'Basic Plan']\n",
            "End state after 10 periods: Basic Plan\n",
            "Probability of the possible sequence of states: 6.779076923076922e-06\n",
            "\n",
            "[0.0, 0.442, 0.211, 0.825]\n",
            "[0.0, 0.442, 0.211, 0.825]\n",
            "[0.0, 0.442, 0.211, 0.825]\n",
            "[0.0, 0.444, 0.211, 0.827]\n"
          ]
        }
      ],
      "source": [
        "periods = 10\n",
        "starting_state = 0\n",
        "transition_list, final_state, probability, projected_matrix = simulate(periods, starting_state, states, transitionName, tMatrix)\n",
        "\n",
        "print(\"Possible states: \" + str(transition_list))\n",
        "print(\"End state after \"+ str(periods) + \" periods: \" + final_state)\n",
        "print(\"Probability of the possible sequence of states: \" + str(probability))\n",
        "print()\n",
        "#Printing projected matrix\n",
        "for i in range(len(projected_matrix)):\n",
        "    print(projected_matrix[i])"
      ]
    },
    {
      "cell_type": "markdown",
      "metadata": {
        "id": "fyVHYQCHqvQN"
      },
      "source": [
        "End state after 10 periods: Basic Plan\n",
        "Probability of the possible sequence of states: 0.00034150240384615377\n",
        "\n",
        "This model shows that after ten years Just over 80% of consumers will arrive at the lost state. While This is still a a lot of people as this show between 82 and 83 percent of users will eventually be in the lost state. However, this is still a significant improvment since this is nearly a 20% increase in the amount of active users then previously. These are also conservative observations as it makes the assumption that 50 percent of users will be lost and lost forever despite being able to return to either the basic plan or unlimited plan. It can even be assumed that because the new changes involve being able to upgrade from the basic option to the unlimited that more people may return to the basic state, which can lead to more people in the unlimited state and ultimately lead to more retention. But we can conclude that allowing users to return from the lost state leads to a signifcant improvement in user retention."
      ]
    }
  ],
  "metadata": {
    "kernelspec": {
      "display_name": "Python 3 (ipykernel)",
      "language": "python",
      "name": "python3"
    },
    "language_info": {
      "codemirror_mode": {
        "name": "ipython",
        "version": 3
      },
      "file_extension": ".py",
      "mimetype": "text/x-python",
      "name": "python",
      "nbconvert_exporter": "python",
      "pygments_lexer": "ipython3",
      "version": "3.9.7"
    },
    "colab": {
      "provenance": []
    }
  },
  "nbformat": 4,
  "nbformat_minor": 0
}